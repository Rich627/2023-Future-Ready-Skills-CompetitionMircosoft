{
 "cells": [
  {
   "cell_type": "code",
   "execution_count": 2,
   "metadata": {},
   "outputs": [],
   "source": [
    "key = \"ebe6e8d9df2241b585b7d7e5403bc847\"\n",
    "endpoint = \"https://competition.cognitiveservices.azure.com/\""
   ]
  },
  {
   "cell_type": "code",
   "execution_count": 3,
   "metadata": {},
   "outputs": [],
   "source": [
    "from azure.ai.textanalytics import TextAnalyticsClient\n",
    "from azure.core.credentials import AzureKeyCredential\n",
    "\n",
    "def authenticate_client():\n",
    "    ta_credential = AzureKeyCredential(key)\n",
    "    text_analytics_client = TextAnalyticsClient(\n",
    "            endpoint=endpoint, \n",
    "            credential=ta_credential)\n",
    "    return text_analytics_client\n",
    "\n",
    "client = authenticate_client()\n"
   ]
  },
  {
   "cell_type": "code",
   "execution_count": 5,
   "metadata": {},
   "outputs": [
    {
     "name": "stdout",
     "output_type": "stream",
     "text": [
      "\tKey Phrases:\n",
      "\t\t Deathadder v2 Pro\n",
      "\t\t Roccat Burst Pro\n",
      "\t\t Naga Pro\n",
      "\t\t different mice\n",
      "\t\t different things\n",
      "\t\t gaming laptop\n",
      "\t\t other mice\n",
      "\t\t daily driver\n",
      "\t\t favorite mouse\n",
      "\t\t MOBAs\n",
      "\t\t MMOs\n",
      "\t\t FPS\n",
      "\t\t Orochi\n",
      "\t\t drawer\n",
      "\t\t time\n",
      "\t\t year\n"
     ]
    }
   ],
   "source": [
    "def key_phrase_extraction_example(client):\n",
    "\n",
    "    try:\n",
    "        documents = [\"I am really enjoying this mouse. Is it my favorite mouse? Hard to say, I have different mice for different things. I have a Naga Pro for MOBAs and MMOs, a Deathadder v2 Pro for FPS, and an Orochi for my gaming laptop. I also have a drawer full of other mice that I enjoy using from time to time like the Roccat Burst Pro that was my daily driver for nearly a year.\"]\n",
    "\n",
    "        response = client.extract_key_phrases(documents = documents)[0]\n",
    "\n",
    "        if not response.is_error:\n",
    "            print(\"\\tKey Phrases:\")\n",
    "            for phrase in response.key_phrases:\n",
    "                print(\"\\t\\t\", phrase)\n",
    "        else:\n",
    "            print(response.id, response.error)\n",
    "\n",
    "    except Exception as err:\n",
    "        print(\"Encountered exception. {}\".format(err))\n",
    "    \n",
    "key_phrase_extraction_example(client)"
   ]
  }
 ],
 "metadata": {
  "kernelspec": {
   "display_name": "Python 3",
   "language": "python",
   "name": "python3"
  },
  "language_info": {
   "codemirror_mode": {
    "name": "ipython",
    "version": 3
   },
   "file_extension": ".py",
   "mimetype": "text/x-python",
   "name": "python",
   "nbconvert_exporter": "python",
   "pygments_lexer": "ipython3",
   "version": "3.9.6"
  },
  "orig_nbformat": 4
 },
 "nbformat": 4,
 "nbformat_minor": 2
}
