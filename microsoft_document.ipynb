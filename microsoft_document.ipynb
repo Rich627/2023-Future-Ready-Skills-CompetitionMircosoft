{
 "cells": [
  {
   "attachments": {},
   "cell_type": "markdown",
   "metadata": {},
   "source": [
    "![Screenshot 2023-03-21 at 10.46.48 PM.png](/Users/Rich/Desktop/AI特攻隊/image/)\n"
   ]
  },
  {
   "attachments": {},
   "cell_type": "markdown",
   "metadata": {},
   "source": [
    "![Screenshot 2023-03-21 at 10.47.05 PM.png](/Users/Rich/Desktop/AI特攻隊/image)"
   ]
  },
  {
   "attachments": {},
   "cell_type": "markdown",
   "metadata": {},
   "source": [
    "![Screenshot 2023-03-21 at 10.47.29 PM.png](/Users/Rich/Desktop/AI特攻隊/image)"
   ]
  },
  {
   "attachments": {},
   "cell_type": "markdown",
   "metadata": {},
   "source": [
    "https://learn.microsoft.com/zh-tw/python/api/overview/azure/ai-textanalytics-readme?view=azure-python-preview&preserve-view=true"
   ]
  },
  {
   "cell_type": "code",
   "execution_count": 2,
   "metadata": {},
   "outputs": [
    {
     "name": "stdout",
     "output_type": "stream",
     "text": [
      "Key phrases in article #1: D.C. Autumn, beautiful season, clearer view, blue sky, yellow leaves, Washington, DC, trees, city, forests, ground\n",
      "Key phrases in article #2: United States workers, start date, Redmond, WA, past, days, Microsoft, pandemic, end, sight\n",
      "Key phrases in article #3: new coffee shop, Redmond, WA, Employees, Microsoft, campus, workers\n"
     ]
    }
   ],
   "source": [
    "import os\n",
    "from azure.core.credentials import AzureKeyCredential\n",
    "from azure.ai.textanalytics import TextAnalyticsClient\n",
    "\n",
    "endpoint = \"https://rich-demo.cognitiveservices.azure.com/\"\n",
    "key = \"1c04c1fbedc247b0ab0d366d79b92955\"\n",
    "\n",
    "text_analytics_client = TextAnalyticsClient(endpoint=endpoint, credential=AzureKeyCredential(key))\n",
    "articles = [\n",
    "    \"\"\"\n",
    "    Washington, D.C. Autumn in DC is a uniquely beautiful season. The leaves fall from the trees\n",
    "    in a city chock-full of forests, leaving yellow leaves on the ground and a clearer view of the\n",
    "    blue sky above...\n",
    "    \"\"\",\n",
    "    \"\"\"\n",
    "    Redmond, WA. In the past few days, Microsoft has decided to further postpone the start date of\n",
    "    its United States workers, due to the pandemic that rages with no end in sight...\n",
    "    \"\"\",\n",
    "    \"\"\"\n",
    "    Redmond, WA. Employees at Microsoft can be excited about the new coffee shop that will open on campus\n",
    "    once workers no longer have to work remotely...\n",
    "    \"\"\"\n",
    "]\n",
    "\n",
    "result = text_analytics_client.extract_key_phrases(articles)\n",
    "for idx, doc in enumerate(result):\n",
    "    if not doc.is_error:\n",
    "        print(\"Key phrases in article #{}: {}\".format(\n",
    "            idx + 1,\n",
    "            \", \".join(doc.key_phrases)\n",
    "        ))"
   ]
  }
 ],
 "metadata": {
  "kernelspec": {
   "display_name": "Python 3",
   "language": "python",
   "name": "python3"
  },
  "language_info": {
   "codemirror_mode": {
    "name": "ipython",
    "version": 3
   },
   "file_extension": ".py",
   "mimetype": "text/x-python",
   "name": "python",
   "nbconvert_exporter": "python",
   "pygments_lexer": "ipython3",
   "version": "3.9.6"
  },
  "orig_nbformat": 4
 },
 "nbformat": 4,
 "nbformat_minor": 2
}
